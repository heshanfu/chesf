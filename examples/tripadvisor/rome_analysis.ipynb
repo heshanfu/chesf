{
 "cells": [
  {
   "cell_type": "markdown",
   "metadata": {},
   "source": [
    "# Rome wasn't built in a day: an analysis of eternal city's B&Bs #\n",
    "\n",
    "Below we present an analysis of dataset made of more than 220k reviews (and associated data) of Rome's B&Bs, taken from TripAdvisor, using a scraping tool made with the [Chrome Headless Scraping Framework](https://github.com/nicodds/chesf) (CHeSF)."
   ]
  },
  {
   "cell_type": "code",
   "execution_count": 1,
   "metadata": {
    "scrolled": true
   },
   "outputs": [
    {
     "data": {
      "text/html": [
       "<div>\n",
       "<style scoped>\n",
       "    .dataframe tbody tr th:only-of-type {\n",
       "        vertical-align: middle;\n",
       "    }\n",
       "\n",
       "    .dataframe tbody tr th {\n",
       "        vertical-align: top;\n",
       "    }\n",
       "\n",
       "    .dataframe thead th {\n",
       "        text-align: right;\n",
       "    }\n",
       "</style>\n",
       "<table border=\"1\" class=\"dataframe\">\n",
       "  <thead>\n",
       "    <tr style=\"text-align: right;\">\n",
       "      <th></th>\n",
       "      <th>review_title</th>\n",
       "      <th>review_date</th>\n",
       "      <th>review_rating</th>\n",
       "      <th>review_text</th>\n",
       "      <th>review_language</th>\n",
       "      <th>review_user</th>\n",
       "      <th>review_id</th>\n",
       "      <th>property_id</th>\n",
       "      <th>review_year</th>\n",
       "      <th>review_length</th>\n",
       "    </tr>\n",
       "  </thead>\n",
       "  <tbody>\n",
       "    <tr>\n",
       "      <th>0</th>\n",
       "      <td>Ottima posizione e personale gentilissimo</td>\n",
       "      <td>2017-11-27</td>\n",
       "      <td>5</td>\n",
       "      <td>Ho soggiornato con la mia ragazza per 3 notti,...</td>\n",
       "      <td>it</td>\n",
       "      <td>topolindo</td>\n",
       "      <td>543750221</td>\n",
       "      <td>506221.0</td>\n",
       "      <td>2017</td>\n",
       "      <td>394</td>\n",
       "    </tr>\n",
       "    <tr>\n",
       "      <th>1</th>\n",
       "      <td>Excellent, spotless clean, great location</td>\n",
       "      <td>2017-11-21</td>\n",
       "      <td>5</td>\n",
       "      <td>Warmly welcomed by Lorenzo and son Roberto. Ex...</td>\n",
       "      <td>en</td>\n",
       "      <td>L W</td>\n",
       "      <td>542485235</td>\n",
       "      <td>506221.0</td>\n",
       "      <td>2017</td>\n",
       "      <td>349</td>\n",
       "    </tr>\n",
       "    <tr>\n",
       "      <th>2</th>\n",
       "      <td>Excellent!</td>\n",
       "      <td>2017-11-17</td>\n",
       "      <td>5</td>\n",
       "      <td>Me and my friend have just got back from 3 nig...</td>\n",
       "      <td>en</td>\n",
       "      <td>Abi B</td>\n",
       "      <td>541574061</td>\n",
       "      <td>506221.0</td>\n",
       "      <td>2017</td>\n",
       "      <td>936</td>\n",
       "    </tr>\n",
       "  </tbody>\n",
       "</table>\n",
       "</div>"
      ],
      "text/plain": [
       "                                review_title review_date  review_rating  \\\n",
       "0  Ottima posizione e personale gentilissimo  2017-11-27              5   \n",
       "1  Excellent, spotless clean, great location  2017-11-21              5   \n",
       "2                                 Excellent!  2017-11-17              5   \n",
       "\n",
       "                                         review_text review_language  \\\n",
       "0  Ho soggiornato con la mia ragazza per 3 notti,...              it   \n",
       "1  Warmly welcomed by Lorenzo and son Roberto. Ex...              en   \n",
       "2  Me and my friend have just got back from 3 nig...              en   \n",
       "\n",
       "  review_user  review_id  property_id  review_year  review_length  \n",
       "0   topolindo  543750221     506221.0         2017            394  \n",
       "1         L W  542485235     506221.0         2017            349  \n",
       "2       Abi B  541574061     506221.0         2017            936  "
      ]
     },
     "execution_count": 1,
     "metadata": {},
     "output_type": "execute_result"
    }
   ],
   "source": [
    "import numpy as np\n",
    "import pandas as pd\n",
    "import matplotlib.pyplot as plt\n",
    "import seaborn as sns\n",
    "\n",
    "\n",
    "reviews = pd.read_csv('reviews.csv', encoding='utf-8')\n",
    "reviews['review_date'] = pd.to_datetime(reviews['review_date'])\n",
    "reviews['review_year'] = reviews.review_date.dt.year\n",
    "reviews['review_length'] = reviews.review_text.apply(len)\n",
    "\n",
    "reviews.head(3)"
   ]
  },
  {
   "cell_type": "code",
   "execution_count": 2,
   "metadata": {},
   "outputs": [
    {
     "data": {
      "text/plain": [
       "223089"
      ]
     },
     "execution_count": 2,
     "metadata": {},
     "output_type": "execute_result"
    }
   ],
   "source": [
    "len(reviews)"
   ]
  },
  {
   "cell_type": "code",
   "execution_count": 3,
   "metadata": {},
   "outputs": [
    {
     "data": {
      "text/plain": [
       "review_title        3\n",
       "review_date         0\n",
       "review_rating       0\n",
       "review_text         0\n",
       "review_language     0\n",
       "review_user         0\n",
       "review_id           0\n",
       "property_id        28\n",
       "review_year         0\n",
       "review_length       0\n",
       "dtype: int64"
      ]
     },
     "execution_count": 3,
     "metadata": {},
     "output_type": "execute_result"
    }
   ],
   "source": [
    "reviews.isna().sum()"
   ]
  },
  {
   "cell_type": "code",
   "execution_count": 4,
   "metadata": {},
   "outputs": [
    {
     "data": {
      "text/html": [
       "<div>\n",
       "<style scoped>\n",
       "    .dataframe tbody tr th:only-of-type {\n",
       "        vertical-align: middle;\n",
       "    }\n",
       "\n",
       "    .dataframe tbody tr th {\n",
       "        vertical-align: top;\n",
       "    }\n",
       "\n",
       "    .dataframe thead th {\n",
       "        text-align: right;\n",
       "    }\n",
       "</style>\n",
       "<table border=\"1\" class=\"dataframe\">\n",
       "  <thead>\n",
       "    <tr style=\"text-align: right;\">\n",
       "      <th></th>\n",
       "      <th>property_id</th>\n",
       "      <th>property_name</th>\n",
       "      <th>property_reviews</th>\n",
       "      <th>property_rating</th>\n",
       "      <th>property_address</th>\n",
       "      <th>property_latitude</th>\n",
       "      <th>property_longitude</th>\n",
       "    </tr>\n",
       "  </thead>\n",
       "  <tbody>\n",
       "    <tr>\n",
       "      <th>0</th>\n",
       "      <td>506221.0</td>\n",
       "      <td>Rome Downtown Accomodation</td>\n",
       "      <td>407</td>\n",
       "      <td>4.5</td>\n",
       "      <td>Via Cavour 275 | 1st Floor With Lift, 00184 Ro...</td>\n",
       "      <td>41.893950</td>\n",
       "      <td>12.490302</td>\n",
       "    </tr>\n",
       "    <tr>\n",
       "      <th>1</th>\n",
       "      <td>2386058.0</td>\n",
       "      <td>B&amp;B La Duchessa A Roma</td>\n",
       "      <td>480</td>\n",
       "      <td>5.0</td>\n",
       "      <td>Via Duchessa di Galliera 14, Rome, Italy</td>\n",
       "      <td>41.869427</td>\n",
       "      <td>12.448288</td>\n",
       "    </tr>\n",
       "    <tr>\n",
       "      <th>2</th>\n",
       "      <td>2285303.0</td>\n",
       "      <td>Bed and Breakfast Tre Civette Sul Como</td>\n",
       "      <td>589</td>\n",
       "      <td>5.0</td>\n",
       "      <td>Via Luigi Vittorio Bertarelli 7, 00159 Rome, I...</td>\n",
       "      <td>41.907978</td>\n",
       "      <td>12.534941</td>\n",
       "    </tr>\n",
       "  </tbody>\n",
       "</table>\n",
       "</div>"
      ],
      "text/plain": [
       "   property_id                           property_name property_reviews  \\\n",
       "0     506221.0              Rome Downtown Accomodation              407   \n",
       "1    2386058.0                  B&B La Duchessa A Roma              480   \n",
       "2    2285303.0  Bed and Breakfast Tre Civette Sul Como              589   \n",
       "\n",
       "   property_rating                                   property_address  \\\n",
       "0              4.5  Via Cavour 275 | 1st Floor With Lift, 00184 Ro...   \n",
       "1              5.0           Via Duchessa di Galliera 14, Rome, Italy   \n",
       "2              5.0  Via Luigi Vittorio Bertarelli 7, 00159 Rome, I...   \n",
       "\n",
       "   property_latitude  property_longitude  \n",
       "0          41.893950           12.490302  \n",
       "1          41.869427           12.448288  \n",
       "2          41.907978           12.534941  "
      ]
     },
     "execution_count": 4,
     "metadata": {},
     "output_type": "execute_result"
    }
   ],
   "source": [
    "properties = pd.read_csv('properties.csv', encoding='utf-8')\n",
    "properties.head(3)"
   ]
  },
  {
   "cell_type": "code",
   "execution_count": 5,
   "metadata": {},
   "outputs": [
    {
     "data": {
      "text/plain": [
       "property_id           339\n",
       "property_name           1\n",
       "property_reviews      339\n",
       "property_rating       339\n",
       "property_address       37\n",
       "property_latitude     339\n",
       "property_longitude    339\n",
       "dtype: int64"
      ]
     },
     "execution_count": 5,
     "metadata": {},
     "output_type": "execute_result"
    }
   ],
   "source": [
    "properties.isna().sum()"
   ]
  },
  {
   "cell_type": "markdown",
   "metadata": {},
   "source": [
    "## Languages ##\n",
    "Are reviews written in mainly in italian or english? Are there any other consistently used idiom?"
   ]
  },
  {
   "cell_type": "code",
   "execution_count": 7,
   "metadata": {
    "scrolled": false
   },
   "outputs": [
    {
     "data": {
      "image/png": "[encoded data removed]",
      "text/plain": [
       "<matplotlib.figure.Figure at 0xb32e128>"
      ]
     },
     "metadata": {},
     "output_type": "display_data"
    }
   ],
   "source": [
    "plt.subplots(figsize=(13,5))\n",
    "sns.countplot('review_language',\n",
    "              data=reviews,\n",
    "              order=reviews.review_language.value_counts().index)\n",
    "plt.xticks(rotation=90)\n",
    "plt.show()"
   ]
  },
  {
   "cell_type": "markdown",
   "metadata": {},
   "source": [
    "Users prefer to write reviews in english, then in italian language. This should be due mainly to the fact that Rome is an international destination frequented by thousands of travelers from different countries. Furthermore, Rome is also visited by many locals, i.e. italian travelers."
   ]
  },
  {
   "cell_type": "markdown",
   "metadata": {},
   "source": [
    "## Ratings ##\n",
    "We obtained info both from the ratings associated to each review and from the average rating of each property. Let's start with the distribution of the user ratings"
   ]
  },
  {
   "cell_type": "code",
   "execution_count": 6,
   "metadata": {
    "scrolled": false
   },
   "outputs": [
    {
     "data": {
      "image/png": "[encoded data removed]",
      "text/plain": [
       "<matplotlib.figure.Figure at 0x1e34d7294a8>"
      ]
     },
     "metadata": {},
     "output_type": "display_data"
    }
   ],
   "source": [
    "plt.subplots(figsize=(13,5))\n",
    "sns.countplot('review_rating',\n",
    "              data=reviews)\n",
    "plt.show()"
   ]
  },
  {
   "cell_type": "markdown",
   "metadata": {
    "collapsed": true
   },
   "source": [
    "We see that users tend to write positive reviews. This could lead us to conclude that Rome's B&Bs are of very good quality. Personally, I think that on average this is true, but the distribution of ratings could be influenced by many things other than the quality of the stays. For example, an user that experienced an overall good travel in Rome, could be more prone to assign a positive review. Furthermore, the \"easy\" italian lifestyle fascinates travelers that stay in a location for a few days, while it could be disappointing for long periods. Last but not least, fake reviews could pollute the situation.\n",
    "\n",
    "Let's see now the distribution of B&Bs average rating (as presented by TripAdvisor), comparing it with that computed from the properties reviews."
   ]
  },
  {
   "cell_type": "code",
   "execution_count": 49,
   "metadata": {
    "scrolled": true
   },
   "outputs": [
    {
     "data": {
      "image/png": "[encoded data removed]",
      "text/plain": [
       "<matplotlib.figure.Figure at 0x1229b940>"
      ]
     },
     "metadata": {},
     "output_type": "display_data"
    }
   ],
   "source": [
    "_,axs=plt.subplots(2,1,figsize=(12,5),sharex='row')\n",
    "\n",
    "avg_rating = reviews.groupby('property_id')['review_rating'].mean().apply(lambda x: np.around(x * 2) / 2).sort_values()\n",
    "\n",
    "sns.countplot(x=np.append(avg_rating.ravel(),0.0),ax=axs[0])\n",
    "axs[0].set_title('Average property ratings [top computed from reviews, bottom from TripAdvisor pages]')\n",
    "sns.countplot(x=properties.dropna().property_rating,ax=axs[1])\n",
    "\n",
    "plt.show()"
   ]
  },
  {
   "cell_type": "markdown",
   "metadata": {},
   "source": [
    "The two plots, except for really small differences, are the same. They confirm that users, on average, really appreciate the eternal city B&Bs.\n",
    "\n",
    "\n",
    "## Reviews over time ##\n",
    "How many reviews are written in an year? Is such number constant or does it changes?"
   ]
  },
  {
   "cell_type": "code",
   "execution_count": 7,
   "metadata": {},
   "outputs": [
    {
     "data": {
      "image/png": "[encoded data removed]",
      "text/plain": [
       "<matplotlib.figure.Figure at 0x1e34e1c0dd8>"
      ]
     },
     "metadata": {},
     "output_type": "display_data"
    }
   ],
   "source": [
    "plt.subplots(figsize=(13,5))\n",
    "sns.countplot('review_year',\n",
    "              data=reviews)\n",
    "plt.xticks(rotation=90)\n",
    "plt.show()"
   ]
  },
  {
   "cell_type": "markdown",
   "metadata": {},
   "source": [
    "## Spatial distribution of the structures ##\n",
    "Are good B&Bs spread allover the city? Or, maybe, are they concentrated in some specific area? It's time to answer this question."
   ]
  },
  {
   "cell_type": "code",
   "execution_count": 8,
   "metadata": {},
   "outputs": [
    {
     "ename": "ModuleNotFoundError",
     "evalue": "No module named 'mpl_toolkits.basemap'",
     "output_type": "error",
     "traceback": [
      "\u001b[1;31m---------------------------------------------------------------------------\u001b[0m",
      "\u001b[1;31mModuleNotFoundError\u001b[0m                       Traceback (most recent call last)",
      "\u001b[1;32m<ipython-input-8-466879f5de13>\u001b[0m in \u001b[0;36m<module>\u001b[1;34m()\u001b[0m\n\u001b[1;32m----> 1\u001b[1;33m \u001b[1;32mfrom\u001b[0m \u001b[0mmpl_toolkits\u001b[0m\u001b[1;33m.\u001b[0m\u001b[0mbasemap\u001b[0m \u001b[1;32mimport\u001b[0m \u001b[0mBasemap\u001b[0m\u001b[1;33m\u001b[0m\u001b[0m\n\u001b[0m\u001b[0;32m      2\u001b[0m \u001b[1;33m\u001b[0m\u001b[0m\n\u001b[0;32m      3\u001b[0m rome_map = Basemap(projection='merc',\n\u001b[0;32m      4\u001b[0m              \u001b[0mllcrnrlat\u001b[0m\u001b[1;33m=\u001b[0m\u001b[1;36m41.7\u001b[0m\u001b[1;33m,\u001b[0m\u001b[0murcrnrlat\u001b[0m\u001b[1;33m=\u001b[0m\u001b[1;36m42.1\u001b[0m\u001b[1;33m,\u001b[0m\u001b[1;33m\u001b[0m\u001b[0m\n\u001b[0;32m      5\u001b[0m              \u001b[0mllcrnrlon\u001b[0m\u001b[1;33m=\u001b[0m\u001b[1;36m12.22\u001b[0m\u001b[1;33m,\u001b[0m\u001b[0murcrnrlon\u001b[0m\u001b[1;33m=\u001b[0m\u001b[1;36m12.68\u001b[0m\u001b[1;33m,\u001b[0m\u001b[1;33m\u001b[0m\u001b[0m\n",
      "\u001b[1;31mModuleNotFoundError\u001b[0m: No module named 'mpl_toolkits.basemap'"
     ]
    }
   ],
   "source": [
    "from mpl_toolkits.basemap import Basemap\n",
    "\n",
    "rome_map = Basemap(projection='merc',\n",
    "             llcrnrlat=41.7,urcrnrlat=42.1,\n",
    "             llcrnrlon=12.22,urcrnrlon=12.68,\n",
    "                  resolution='h', epsg=4326)\n",
    "\n",
    "fully_qualified_properties = properties[properties.property_id.notna()]\n",
    "colors = ['g', 'y', 'r']\n",
    "properties_points = []\n",
    "properties_points.append(fully_qualified_properties[fully_qualified_properties.property_rating >= 4])\n",
    "properties_points.append(fully_qualified_properties[fully_qualified_properties.property_rating == 3])\n",
    "properties_points.append(fully_qualified_properties[fully_qualified_properties.property_rating <= 2])\n",
    "\n",
    "for i in [0,1,2]:\n",
    "    xpt,ypt=rome_map(properties_points[i]['property_longitude'].ravel(),\n",
    "                 properties_points[i]['property_latitude'].ravel())\n",
    "    rome_map.scatter(xpt, ypt ,marker='.',color=colors[i],zorder=2)\n",
    "\n",
    "#Fill the globe with a blue color \n",
    "rome_map.drawmapboundary(fill_color='aqua')\n",
    "#Fill the continents with the land color\n",
    "rome_map.fillcontinents(color='coral',lake_color='aqua')\n",
    "rome_map.drawcoastlines()\n",
    "rome_map.drawrivers(linewidth=1,color='aqua')\n",
    "\n",
    "# point of interest\n",
    "pois = {'Coliseum': [41.890251,12.492373], # Coliseum\n",
    "       'Pantheon': [41.89904, 12.47678], # Pantheon\n",
    "       'Vatican City': [41.90292, 12.45339], # Vatican City\n",
    "       'Termini Station': [41.901542,12.500596], # Termini Station\n",
    "       'Circo Massimo': [41.886238, 12.485277] # Circo Massimo\n",
    "       }\n",
    "\n",
    "for label, coords in pois.items():\n",
    "    xpt,ypt = rome_map(coords[1], coords[0])\n",
    "    rome_map.plot(xpt,ypt, marker='o', markersize=6, color='b')\n",
    "    plt.annotate(label, xy=(xpt, ypt), xycoords='data',\n",
    "                 textcoords='offset points', color='k',\n",
    "                arrowprops=dict(arrowstyle=\"->\"))\n",
    "\n",
    "fig=plt.gcf()\n",
    "fig.set_size_inches(15,10)\n",
    "\n",
    "plt.show()"
   ]
  },
  {
   "cell_type": "markdown",
   "metadata": {},
   "source": [
    "## Reviews length ##\n",
    "\n",
    "We plot an interesting feature of the reviews corpus. The lengths distributions, both global and per ratings, are highly skewed. Furthermore, mean and standard deviation (respectively m and s in the plots) are approximately equal."
   ]
  },
  {
   "cell_type": "code",
   "execution_count": 144,
   "metadata": {
    "scrolled": false
   },
   "outputs": [
    {
     "data": {
      "image/png": "[encoded data removed]",
      "text/plain": [
       "<matplotlib.figure.Figure at 0x25236940>"
      ]
     },
     "metadata": {},
     "output_type": "display_data"
    }
   ],
   "source": [
    "_, axs = plt.subplots(2, 3, sharex='col', sharey='row', figsize=(13,7))\n",
    "\n",
    "for i in range(0,5):\n",
    "    rating = reviews[reviews.review_rating == i+1].review_length\n",
    "   \n",
    "    if i<=2:\n",
    "        (row, col) = (0, i)\n",
    "    else:\n",
    "        (row, col) = (1, i-3)\n",
    "\n",
    "    sns.distplot(rating, kde=False, ax=axs[row,col], norm_hist=True)\n",
    "    axs[row,col].set_title('Rating=%i m=%.1f s=%.1f'%(i+1, rating.mean(), rating.std()))\n",
    "\n",
    "sns.distplot(reviews.review_length, kde=False, ax=axs[1,2], norm_hist=True)\n",
    "axs[1,2].set_title('Global m=%.1f s=%.1f' %(reviews.review_length.mean(), reviews.review_length.std()))\n",
    "\n",
    "plt.show()"
   ]
  },
  {
   "cell_type": "markdown",
   "metadata": {},
   "source": [
    "## Per user reviews ##\n",
    "How many unique users wrote the more than 222k reviews?"
   ]
  },
  {
   "cell_type": "code",
   "execution_count": 68,
   "metadata": {},
   "outputs": [
    {
     "data": {
      "text/plain": [
       "166973"
      ]
     },
     "execution_count": 68,
     "metadata": {},
     "output_type": "execute_result"
    }
   ],
   "source": [
    "len(reviews.review_user.unique())"
   ]
  },
  {
   "cell_type": "markdown",
   "metadata": {},
   "source": [
    "This means that some users wrote more than a single review. Such behavior could be reasonable. I can visit a city more than a time, changing accomodation in each occasion. Consequently, I can write more than a single review. Let's dig further."
   ]
  },
  {
   "cell_type": "code",
   "execution_count": 12,
   "metadata": {},
   "outputs": [
    {
     "data": {
      "text/html": [
       "<div>\n",
       "<style scoped>\n",
       "    .dataframe tbody tr th:only-of-type {\n",
       "        vertical-align: middle;\n",
       "    }\n",
       "\n",
       "    .dataframe tbody tr th {\n",
       "        vertical-align: top;\n",
       "    }\n",
       "\n",
       "    .dataframe thead th {\n",
       "        text-align: right;\n",
       "    }\n",
       "</style>\n",
       "<table border=\"1\" class=\"dataframe\">\n",
       "  <thead>\n",
       "    <tr style=\"text-align: right;\">\n",
       "      <th></th>\n",
       "      <th>review_count</th>\n",
       "    </tr>\n",
       "    <tr>\n",
       "      <th>review_user</th>\n",
       "      <th></th>\n",
       "    </tr>\n",
       "  </thead>\n",
       "  <tbody>\n",
       "    <tr>\n",
       "      <th>A TripAdvisor Member</th>\n",
       "      <td>1360</td>\n",
       "    </tr>\n",
       "    <tr>\n",
       "      <th>A TripAdvisor China Member</th>\n",
       "      <td>194</td>\n",
       "    </tr>\n",
       "    <tr>\n",
       "      <th>Andrea C</th>\n",
       "      <td>90</td>\n",
       "    </tr>\n",
       "    <tr>\n",
       "      <th>Marco C</th>\n",
       "      <td>82</td>\n",
       "    </tr>\n",
       "    <tr>\n",
       "      <th>Andrea M</th>\n",
       "      <td>80</td>\n",
       "    </tr>\n",
       "    <tr>\n",
       "      <th>Marco M</th>\n",
       "      <td>79</td>\n",
       "    </tr>\n",
       "    <tr>\n",
       "      <th>Andrea B</th>\n",
       "      <td>77</td>\n",
       "    </tr>\n",
       "    <tr>\n",
       "      <th>Marco B</th>\n",
       "      <td>74</td>\n",
       "    </tr>\n",
       "    <tr>\n",
       "      <th>Giuseppe C</th>\n",
       "      <td>68</td>\n",
       "    </tr>\n",
       "    <tr>\n",
       "      <th>Francesco C</th>\n",
       "      <td>65</td>\n",
       "    </tr>\n",
       "    <tr>\n",
       "      <th>Antonio C</th>\n",
       "      <td>63</td>\n",
       "    </tr>\n",
       "    <tr>\n",
       "      <th>Francesca C</th>\n",
       "      <td>61</td>\n",
       "    </tr>\n",
       "    <tr>\n",
       "      <th>Andrea P</th>\n",
       "      <td>60</td>\n",
       "    </tr>\n",
       "    <tr>\n",
       "      <th>Andrea S</th>\n",
       "      <td>60</td>\n",
       "    </tr>\n",
       "    <tr>\n",
       "      <th>Luca C</th>\n",
       "      <td>57</td>\n",
       "    </tr>\n",
       "    <tr>\n",
       "      <th>Laura B</th>\n",
       "      <td>57</td>\n",
       "    </tr>\n",
       "    <tr>\n",
       "      <th>Anna M</th>\n",
       "      <td>55</td>\n",
       "    </tr>\n",
       "    <tr>\n",
       "      <th>Marco P</th>\n",
       "      <td>53</td>\n",
       "    </tr>\n",
       "    <tr>\n",
       "      <th>Maria M</th>\n",
       "      <td>53</td>\n",
       "    </tr>\n",
       "    <tr>\n",
       "      <th>Francesco P</th>\n",
       "      <td>50</td>\n",
       "    </tr>\n",
       "  </tbody>\n",
       "</table>\n",
       "</div>"
      ],
      "text/plain": [
       "                            review_count\n",
       "review_user                             \n",
       "A TripAdvisor Member                1360\n",
       "A TripAdvisor China Member           194\n",
       "Andrea C                              90\n",
       "Marco C                               82\n",
       "Andrea M                              80\n",
       "Marco M                               79\n",
       "Andrea B                              77\n",
       "Marco B                               74\n",
       "Giuseppe C                            68\n",
       "Francesco C                           65\n",
       "Antonio C                             63\n",
       "Francesca C                           61\n",
       "Andrea P                              60\n",
       "Andrea S                              60\n",
       "Luca C                                57\n",
       "Laura B                               57\n",
       "Anna M                                55\n",
       "Marco P                               53\n",
       "Maria M                               53\n",
       "Francesco P                           50"
      ]
     },
     "execution_count": 12,
     "metadata": {},
     "output_type": "execute_result"
    }
   ],
   "source": [
    "per_user = reviews.groupby('review_user').agg({'review_id': len})\\\n",
    ".rename(columns={'review_id': 'review_count'})\\\n",
    ".sort_values(by='review_count',ascending=False)\n",
    "\n",
    "per_user.head(20)"
   ]
  },
  {
   "cell_type": "markdown",
   "metadata": {},
   "source": [
    "Except for the first two rows, we see that there are users that wrote more than 50 reviews! Moreover, they all share the same username pattern (\"Name\", a space character and a capital letter alone). Quite strange...\n",
    "\n",
    "Let us remove the first two rows and further analyze the behavior of users"
   ]
  },
  {
   "cell_type": "code",
   "execution_count": 13,
   "metadata": {
    "scrolled": true
   },
   "outputs": [
    {
     "data": {
      "image/png": "[encoded data removed]",
      "text/plain": [
       "<matplotlib.figure.Figure at 0x1e34eab0a90>"
      ]
     },
     "metadata": {},
     "output_type": "display_data"
    }
   ],
   "source": [
    "per_user.drop(per_user.index[:2], inplace=True)\n",
    "\n",
    "plt.subplots(figsize=(13,5))\n",
    "sns.countplot('review_count', data=per_user)\n",
    "plt.xticks(rotation=90)\n",
    "plt.show()"
   ]
  },
  {
   "cell_type": "markdown",
   "metadata": {},
   "source": [
    "We see that a very large majority of users wrote a single review. Furthermore, the count drops so rapidly that with the scale used for the plot, we don't even notice any user writing more than 6 reviews. Let's try a sligthly different approach. Let's see how many users wrote more than 6 reviews"
   ]
  },
  {
   "cell_type": "code",
   "execution_count": 14,
   "metadata": {},
   "outputs": [
    {
     "data": {
      "image/png": "[encoded data removed]",
      "text/plain": [
       "<matplotlib.figure.Figure at 0x1e35261d940>"
      ]
     },
     "metadata": {},
     "output_type": "display_data"
    }
   ],
   "source": [
    "plt.subplots(figsize=(13,5))\n",
    "sns.countplot('review_count', data=per_user[per_user.review_count >= 7])\n",
    "plt.xticks(rotation=90)\n",
    "plt.show()"
   ]
  },
  {
   "cell_type": "markdown",
   "metadata": {},
   "source": [
    "It appears that writing more than 15 reviews per user could be considered an unlikely event. In order to be even more confident, let us consider as unlikely an user that writes 20 or more reviews"
   ]
  },
  {
   "cell_type": "code",
   "execution_count": 15,
   "metadata": {
    "scrolled": true
   },
   "outputs": [
    {
     "data": {
      "text/html": [
       "<div>\n",
       "<style scoped>\n",
       "    .dataframe tbody tr th:only-of-type {\n",
       "        vertical-align: middle;\n",
       "    }\n",
       "\n",
       "    .dataframe tbody tr th {\n",
       "        vertical-align: top;\n",
       "    }\n",
       "\n",
       "    .dataframe thead th {\n",
       "        text-align: right;\n",
       "    }\n",
       "</style>\n",
       "<table border=\"1\" class=\"dataframe\">\n",
       "  <thead>\n",
       "    <tr style=\"text-align: right;\">\n",
       "      <th></th>\n",
       "      <th>review_count</th>\n",
       "    </tr>\n",
       "  </thead>\n",
       "  <tbody>\n",
       "    <tr>\n",
       "      <th>count</th>\n",
       "      <td>299.000000</td>\n",
       "    </tr>\n",
       "    <tr>\n",
       "      <th>mean</th>\n",
       "      <td>30.648829</td>\n",
       "    </tr>\n",
       "    <tr>\n",
       "      <th>std</th>\n",
       "      <td>11.882270</td>\n",
       "    </tr>\n",
       "    <tr>\n",
       "      <th>min</th>\n",
       "      <td>20.000000</td>\n",
       "    </tr>\n",
       "    <tr>\n",
       "      <th>25%</th>\n",
       "      <td>23.000000</td>\n",
       "    </tr>\n",
       "    <tr>\n",
       "      <th>50%</th>\n",
       "      <td>27.000000</td>\n",
       "    </tr>\n",
       "    <tr>\n",
       "      <th>75%</th>\n",
       "      <td>34.000000</td>\n",
       "    </tr>\n",
       "    <tr>\n",
       "      <th>max</th>\n",
       "      <td>90.000000</td>\n",
       "    </tr>\n",
       "  </tbody>\n",
       "</table>\n",
       "</div>"
      ],
      "text/plain": [
       "       review_count\n",
       "count    299.000000\n",
       "mean      30.648829\n",
       "std       11.882270\n",
       "min       20.000000\n",
       "25%       23.000000\n",
       "50%       27.000000\n",
       "75%       34.000000\n",
       "max       90.000000"
      ]
     },
     "execution_count": 15,
     "metadata": {},
     "output_type": "execute_result"
    }
   ],
   "source": [
    "arbitrary_review_limit = 20\n",
    "per_user[per_user.review_count >= arbitrary_review_limit].describe()"
   ]
  },
  {
   "cell_type": "code",
   "execution_count": 16,
   "metadata": {},
   "outputs": [
    {
     "data": {
      "text/plain": [
       "review_count    9164\n",
       "dtype: int64"
      ]
     },
     "execution_count": 16,
     "metadata": {},
     "output_type": "execute_result"
    }
   ],
   "source": [
    "per_user[per_user.review_count >= arbitrary_review_limit].sum()"
   ]
  },
  {
   "cell_type": "markdown",
   "metadata": {},
   "source": [
    "About 300 users wrote more than 9k reviews and this is just a conservative estimation. This smells of fake!\n",
    "\n",
    "Let's see if the username pattern seen above is just a coincidence."
   ]
  },
  {
   "cell_type": "code",
   "execution_count": 17,
   "metadata": {},
   "outputs": [
    {
     "data": {
      "text/html": [
       "<div>\n",
       "<style scoped>\n",
       "    .dataframe tbody tr th:only-of-type {\n",
       "        vertical-align: middle;\n",
       "    }\n",
       "\n",
       "    .dataframe tbody tr th {\n",
       "        vertical-align: top;\n",
       "    }\n",
       "\n",
       "    .dataframe thead th {\n",
       "        text-align: right;\n",
       "    }\n",
       "</style>\n",
       "<table border=\"1\" class=\"dataframe\">\n",
       "  <thead>\n",
       "    <tr style=\"text-align: right;\">\n",
       "      <th></th>\n",
       "      <th>review_count</th>\n",
       "      <th>average_rating</th>\n",
       "    </tr>\n",
       "  </thead>\n",
       "  <tbody>\n",
       "    <tr>\n",
       "      <th>count</th>\n",
       "      <td>29654.000000</td>\n",
       "      <td>29654.000000</td>\n",
       "    </tr>\n",
       "    <tr>\n",
       "      <th>mean</th>\n",
       "      <td>2.307142</td>\n",
       "      <td>4.381126</td>\n",
       "    </tr>\n",
       "    <tr>\n",
       "      <th>std</th>\n",
       "      <td>3.852036</td>\n",
       "      <td>0.914153</td>\n",
       "    </tr>\n",
       "    <tr>\n",
       "      <th>min</th>\n",
       "      <td>1.000000</td>\n",
       "      <td>1.000000</td>\n",
       "    </tr>\n",
       "    <tr>\n",
       "      <th>25%</th>\n",
       "      <td>1.000000</td>\n",
       "      <td>4.000000</td>\n",
       "    </tr>\n",
       "    <tr>\n",
       "      <th>50%</th>\n",
       "      <td>1.000000</td>\n",
       "      <td>5.000000</td>\n",
       "    </tr>\n",
       "    <tr>\n",
       "      <th>75%</th>\n",
       "      <td>2.000000</td>\n",
       "      <td>5.000000</td>\n",
       "    </tr>\n",
       "    <tr>\n",
       "      <th>max</th>\n",
       "      <td>90.000000</td>\n",
       "      <td>5.000000</td>\n",
       "    </tr>\n",
       "  </tbody>\n",
       "</table>\n",
       "</div>"
      ],
      "text/plain": [
       "       review_count  average_rating\n",
       "count  29654.000000    29654.000000\n",
       "mean       2.307142        4.381126\n",
       "std        3.852036        0.914153\n",
       "min        1.000000        1.000000\n",
       "25%        1.000000        4.000000\n",
       "50%        1.000000        5.000000\n",
       "75%        2.000000        5.000000\n",
       "max       90.000000        5.000000"
      ]
     },
     "execution_count": 17,
     "metadata": {},
     "output_type": "execute_result"
    }
   ],
   "source": [
    "pattern = '^[A-Z][a-z]+ [A-Z]$'\n",
    "suspect = reviews[reviews.review_user.str.match(pattern)].groupby('review_user')\\\n",
    ".agg({'review_id': len, 'review_rating': np.mean})\\\n",
    ".rename(columns={'review_id': 'review_count', 'review_rating': 'average_rating'})\\\n",
    ".sort_values(by='review_count',ascending=False)\n",
    "\n",
    "suspect.describe()"
   ]
  },
  {
   "cell_type": "markdown",
   "metadata": {},
   "source": [
    "We found that about 30k users have the same name pattern and in average they wrote positive reviews. Surely, not all of them should be considered suspect. Nevertheless, at least the users that wrote more than 20 reviews could be considered as fake users."
   ]
  },
  {
   "cell_type": "code",
   "execution_count": 18,
   "metadata": {},
   "outputs": [
    {
     "data": {
      "text/plain": [
       "9116"
      ]
     },
     "execution_count": 18,
     "metadata": {},
     "output_type": "execute_result"
    }
   ],
   "source": [
    "suspect[suspect.review_count >= arbitrary_review_limit].review_count.sum()"
   ]
  },
  {
   "cell_type": "markdown",
   "metadata": {},
   "source": [
    "It a kind of magic! It's quite the same number we obtained before. We can say that 99.5% of the user that wrote 20 or more reviews share the same name pattern.\n",
    "\n",
    "As we said above, all such users tend to write (on average) positive reviews, as illustrade by the following plot"
   ]
  },
  {
   "cell_type": "code",
   "execution_count": 19,
   "metadata": {},
   "outputs": [
    {
     "data": {
      "image/png": "[encoded data removed]",
      "text/plain": [
       "<matplotlib.figure.Figure at 0x1e3526295f8>"
      ]
     },
     "metadata": {},
     "output_type": "display_data"
    }
   ],
   "source": [
    "suspect.average_rating = suspect.average_rating.apply(np.around)\n",
    "plt.subplots(figsize=(13,5))\n",
    "sns.countplot('average_rating',\n",
    "              data=suspect)\n",
    "plt.xticks(rotation=90)\n",
    "plt.show()"
   ]
  },
  {
   "cell_type": "markdown",
   "metadata": {},
   "source": [
    "## Conclusions ##\n",
    "I presented a dataset consisting of a corpus of more than 222k reviews of Rome's B&Bs. On average, it appears that the structures are appreciated by travelers. In spite of this, we found also that several users are very prolific writers, writing also 90 different reviews. Such users share all the same name pattern (i.e. Name-space-a_capital_letter) and wrote many positive reviews. We found that almost all users that wrote more than 20 reviews fall in this category.\n",
    "\n",
    "It appears that someone in Rome is offering a service of fake reviews to let some structure artificially jumps on TripAdvisor Ranking. The twitter account of TripAdvisor has been informed."
   ]
  },
  {
   "cell_type": "code",
   "execution_count": null,
   "metadata": {},
   "outputs": [],
   "source": []
  }
 ],
 "metadata": {
  "kernelspec": {
   "display_name": "Python 3",
   "language": "python",
   "name": "python3"
  },
  "language_info": {
   "codemirror_mode": {
    "name": "ipython",
    "version": 3
   },
   "file_extension": ".py",
   "mimetype": "text/x-python",
   "name": "python",
   "nbconvert_exporter": "python",
   "pygments_lexer": "ipython3",
   "version": "3.6.3"
  }
 },
 "nbformat": 4,
 "nbformat_minor": 2
}
